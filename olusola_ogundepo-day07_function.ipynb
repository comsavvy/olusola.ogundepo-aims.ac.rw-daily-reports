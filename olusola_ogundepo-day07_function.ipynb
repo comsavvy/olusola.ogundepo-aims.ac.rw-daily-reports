{
 "cells": [
  {
   "cell_type": "markdown",
   "id": "824ada88",
   "metadata": {},
   "source": [
    "# Functions"
   ]
  },
  {
   "cell_type": "markdown",
   "id": "6a10274d",
   "metadata": {},
   "source": [
    "### In-builtin function"
   ]
  },
  {
   "cell_type": "markdown",
   "id": "d6b17494",
   "metadata": {},
   "source": [
    "`input()` and `print()`"
   ]
  },
  {
   "cell_type": "markdown",
   "id": "0febf827",
   "metadata": {},
   "source": [
    "## User-defined\n",
    "\n",
    "```python\n",
    "\n",
    "def function(parameter1, parameter2, ..., parameterN):\n",
    "    \"\"\"\n",
    "        Documentation for the function\n",
    "    \"\"\"\n",
    "    <block_of_instructions>\n",
    "```"
   ]
  },
  {
   "cell_type": "code",
   "execution_count": 5,
   "id": "065c1eb7",
   "metadata": {},
   "outputs": [],
   "source": [
    "def multiplication_table_8():\n",
    "    n = 1\n",
    "    while n<=12:\n",
    "        v = n * 8\n",
    "        print(8, 'x', n, '=', v)\n",
    "        n += 1"
   ]
  },
  {
   "cell_type": "code",
   "execution_count": 6,
   "id": "fb350a99",
   "metadata": {},
   "outputs": [
    {
     "name": "stdout",
     "output_type": "stream",
     "text": [
      "8 x 1 = 8\n",
      "8 x 2 = 16\n",
      "8 x 3 = 24\n",
      "8 x 4 = 32\n",
      "8 x 5 = 40\n",
      "8 x 6 = 48\n",
      "8 x 7 = 56\n",
      "8 x 8 = 64\n",
      "8 x 9 = 72\n",
      "8 x 10 = 80\n",
      "8 x 11 = 88\n",
      "8 x 12 = 96\n"
     ]
    }
   ],
   "source": [
    "multiplication_table_8()"
   ]
  },
  {
   "cell_type": "markdown",
   "id": "1588fb10",
   "metadata": {},
   "source": [
    "#### Square function"
   ]
  },
  {
   "cell_type": "code",
   "execution_count": 7,
   "id": "d49f1246",
   "metadata": {},
   "outputs": [],
   "source": [
    "def square(x):\n",
    "    \"\"\"\n",
    "        square(x)\n",
    "\n",
    "    This function calculates the square of a given number.\n",
    "\n",
    "    Input: The number x to be squared.\n",
    "    Output: The square of the input number\n",
    "    \"\"\"\n",
    "\n",
    "    return x * x"
   ]
  },
  {
   "cell_type": "code",
   "execution_count": 8,
   "id": "67045776",
   "metadata": {},
   "outputs": [
    {
     "data": {
      "text/plain": [
       "16"
      ]
     },
     "execution_count": 8,
     "metadata": {},
     "output_type": "execute_result"
    }
   ],
   "source": [
    "square(4)"
   ]
  },
  {
   "cell_type": "markdown",
   "id": "5665b852",
   "metadata": {},
   "source": [
    "#### Area of Rectangle function"
   ]
  },
  {
   "cell_type": "code",
   "execution_count": null,
   "id": "59eb13ae",
   "metadata": {},
   "outputs": [],
   "source": [
    "def rectangle_area(l, w):\n",
    "    \"\"\"\n",
    "        rectangle_area(l, w)\n",
    "\n",
    "    This function calculates the area of a rectangle.\n",
    "\n",
    "    Args: \n",
    "        l: Length\n",
    "        w: Width\n",
    "    \n",
    "    Return:\n",
    "        rectangle area\n",
    "    \"\"\"\n",
    "    return l * w"
   ]
  },
  {
   "cell_type": "code",
   "execution_count": null,
   "id": "471e25b9",
   "metadata": {},
   "outputs": [],
   "source": []
  },
  {
   "cell_type": "code",
   "execution_count": null,
   "id": "ff09126a",
   "metadata": {},
   "outputs": [],
   "source": []
  },
  {
   "cell_type": "code",
   "execution_count": null,
   "id": "36946e0b",
   "metadata": {},
   "outputs": [],
   "source": []
  },
  {
   "cell_type": "code",
   "execution_count": null,
   "id": "3e4c0939",
   "metadata": {},
   "outputs": [],
   "source": []
  },
  {
   "cell_type": "code",
   "execution_count": null,
   "id": "0886d89e",
   "metadata": {},
   "outputs": [],
   "source": []
  }
 ],
 "metadata": {
  "kernelspec": {
   "display_name": "base",
   "language": "python",
   "name": "python3"
  },
  "language_info": {
   "codemirror_mode": {
    "name": "ipython",
    "version": 3
   },
   "file_extension": ".py",
   "mimetype": "text/x-python",
   "name": "python",
   "nbconvert_exporter": "python",
   "pygments_lexer": "ipython3",
   "version": "3.13.5"
  }
 },
 "nbformat": 4,
 "nbformat_minor": 5
}
