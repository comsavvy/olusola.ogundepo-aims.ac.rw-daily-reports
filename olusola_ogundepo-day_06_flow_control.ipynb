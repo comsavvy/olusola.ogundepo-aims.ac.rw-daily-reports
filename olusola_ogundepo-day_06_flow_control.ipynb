{
 "cells": [
  {
   "cell_type": "markdown",
   "id": "d3c0e8a9",
   "metadata": {},
   "source": [
    "# AFRICAN INSTITUTE OF MATHEMATICAL SCIENCES {style=\"text-align: center;\"}"
   ]
  },
  {
   "cell_type": "markdown",
   "id": "21e78ce3",
   "metadata": {},
   "source": [
    "# Flow control statements"
   ]
  },
  {
   "cell_type": "markdown",
   "id": "d6e4a9ee",
   "metadata": {},
   "source": [
    "## if ... else statement"
   ]
  },
  {
   "cell_type": "code",
   "execution_count": 1,
   "id": "489cdda7",
   "metadata": {},
   "outputs": [
    {
     "name": "stdout",
     "output_type": "stream",
     "text": [
      "a is greater than 12\n"
     ]
    }
   ],
   "source": [
    "a = 20\n",
    "\n",
    "if a > 12:\n",
    "    print(\"a is greater than 12\")\n",
    "else:\n",
    "    print(\"a is less than or equal to 12\")"
   ]
  },
  {
   "cell_type": "markdown",
   "id": "99298b33",
   "metadata": {},
   "source": [
    "## if ... elif ... else statement"
   ]
  },
  {
   "cell_type": "markdown",
   "id": "3231f2fb",
   "metadata": {},
   "source": [
    "```python\n",
    "if condition1:\n",
    "    # code to be executed if condition1 is true\n",
    "elif condition2:\n",
    "    # code to be executed if condition2 is true\n",
    "else:\n",
    "    # code to be executed if both conditions are false\n",
    "```"
   ]
  },
  {
   "cell_type": "code",
   "execution_count": 2,
   "id": "9dfbf4e3",
   "metadata": {},
   "outputs": [
    {
     "name": "stdout",
     "output_type": "stream",
     "text": [
      "x is zero\n"
     ]
    }
   ],
   "source": [
    "x = 0\n",
    "\n",
    "if x > 0:\n",
    "    print(\"x is positive\")\n",
    "elif x < 0:\n",
    "    print(\"x is negative\")\n",
    "else:\n",
    "    print(\"x is zero\")"
   ]
  },
  {
   "cell_type": "markdown",
   "id": "1182cf36",
   "metadata": {},
   "source": [
    "## Nested clauses"
   ]
  },
  {
   "cell_type": "markdown",
   "id": "b9c438c8",
   "metadata": {},
   "source": [
    "```python\n",
    "if condition1:\n",
    "    # code block to be executed if condition1 is true\n",
    "    if ...:\n",
    "        # nested if code block\n",
    "    else:\n",
    "        # nested else block\n",
    "else:\n",
    "    # code block to be executed if both conditions are false\n",
    "```"
   ]
  },
  {
   "cell_type": "code",
   "execution_count": 3,
   "id": "d518e4c5",
   "metadata": {},
   "outputs": [
    {
     "name": "stdout",
     "output_type": "stream",
     "text": [
      "a is greater than b\n",
      "The difference is 5 or less\n"
     ]
    }
   ],
   "source": [
    "a = 15\n",
    "b = 10\n",
    "\n",
    "if a > b:\n",
    "    print(\"a is greater than b\")\n",
    "    if (a - b) > 5:\n",
    "        print(\"The difference is greater than 5\")\n",
    "    else:\n",
    "        print(\"The difference is 5 or less\")\n",
    "else:\n",
    "    print(\"a is not greater than b\")"
   ]
  },
  {
   "cell_type": "markdown",
   "id": "6983c01c",
   "metadata": {},
   "source": [
    "**Exercise:** Write a Python program that solves quadratic equations of the form ax^2 + bx + c = 0 using the quadratic formula. The program should prompt the user to input the coefficients a, b, and c, and then calculate and display the real roots of the equation. If the equation has no real roots, the program should inform the user accordingly."
   ]
  },
  {
   "cell_type": "code",
   "execution_count": 9,
   "id": "6063df85",
   "metadata": {},
   "outputs": [
    {
     "name": "stdout",
     "output_type": "stream",
     "text": [
      "Enter coefficients a, b and c for the equation ax^2 + bx + c = 0:\n",
      "The equation has no real roots.\n",
      "X1 = -4.0 + 7.4833i, X2 = -4.0 - 7.4833i\n"
     ]
    }
   ],
   "source": [
    "def quadratic_roots(a, b, c):\n",
    "    discriminant = b**2 - 4*a*c\n",
    "    if discriminant > 0:\n",
    "        root1 = (-b + discriminant**0.5) / (2*a)\n",
    "        root2 = (-b - discriminant**0.5) / (2*a)\n",
    "        print(f\"The equation has two real roots: {root1} and {root2}\")\n",
    "        return root1, root2\n",
    "    elif discriminant == 0:\n",
    "        root = -b / (2*a)\n",
    "        print(f\"The equation has one real root: {root[0]}\")\n",
    "        return root,\n",
    "    else:\n",
    "        print(\"The equation has no real roots.\")\n",
    "        root1 = f\"{-b} + {round((abs(discriminant))**0.5, 4)}i\"\n",
    "        root2 = f\"{-b} - {round((abs(discriminant))**0.5, 4)}i\"\n",
    "        return root1, root2\n",
    "    \n",
    "def main():\n",
    "    print(\"Enter coefficients a, b and c for the equation ax^2 + bx + c = 0:\")\n",
    "    a = float(input(\"a: \"))\n",
    "    b = float(input(\"b: \"))\n",
    "    c = float(input(\"c: \"))\n",
    "    \n",
    "    if a == 0:\n",
    "        print(\"Coefficient 'a' cannot be zero for a quadratic equation.\")\n",
    "        return\n",
    "    \n",
    "    roots = quadratic_roots(a, b, c)\n",
    "    \n",
    "    if len(roots)>1:\n",
    "        print(f\"X1 = {roots[0]}, X2 = {roots[1]}\")\n",
    "    else:\n",
    "        print(f\"X = {roots}\")\n",
    "\n",
    "if __name__ == \"__main__\":\n",
    "    main()"
   ]
  },
  {
   "cell_type": "markdown",
   "id": "f991d68d",
   "metadata": {},
   "source": [
    "## `cmath` library exploration"
   ]
  },
  {
   "cell_type": "code",
   "execution_count": 12,
   "id": "e2a1adaa",
   "metadata": {},
   "outputs": [],
   "source": [
    "import cmath"
   ]
  },
  {
   "cell_type": "code",
   "execution_count": 13,
   "id": "983ed6c7",
   "metadata": {},
   "outputs": [
    {
     "name": "stdout",
     "output_type": "stream",
     "text": [
      "Help on built-in module cmath:\n",
      "\n",
      "NAME\n",
      "    cmath\n",
      "\n",
      "DESCRIPTION\n",
      "    This module provides access to mathematical functions for complex\n",
      "    numbers.\n",
      "\n",
      "FUNCTIONS\n",
      "    acos(z, /)\n",
      "        Return the arc cosine of z.\n",
      "\n",
      "    acosh(z, /)\n",
      "        Return the inverse hyperbolic cosine of z.\n",
      "\n",
      "    asin(z, /)\n",
      "        Return the arc sine of z.\n",
      "\n",
      "    asinh(z, /)\n",
      "        Return the inverse hyperbolic sine of z.\n",
      "\n",
      "    atan(z, /)\n",
      "        Return the arc tangent of z.\n",
      "\n",
      "    atanh(z, /)\n",
      "        Return the inverse hyperbolic tangent of z.\n",
      "\n",
      "    cos(z, /)\n",
      "        Return the cosine of z.\n",
      "\n",
      "    cosh(z, /)\n",
      "        Return the hyperbolic cosine of z.\n",
      "\n",
      "    exp(z, /)\n",
      "        Return the exponential value e**z.\n",
      "\n",
      "    isclose(a, b, *, rel_tol=1e-09, abs_tol=0.0)\n",
      "        Determine whether two complex numbers are close in value.\n",
      "\n",
      "          rel_tol\n",
      "            maximum difference for being considered \"close\", relative to the\n",
      "            magnitude of the input values\n",
      "          abs_tol\n",
      "            maximum difference for being considered \"close\", regardless of the\n",
      "            magnitude of the input values\n",
      "\n",
      "        Return True if a is close in value to b, and False otherwise.\n",
      "\n",
      "        For the values to be considered close, the difference between them must be\n",
      "        smaller than at least one of the tolerances.\n",
      "\n",
      "        -inf, inf and NaN behave similarly to the IEEE 754 Standard. That is, NaN is\n",
      "        not close to anything, even itself. inf and -inf are only close to themselves.\n",
      "\n",
      "    isfinite(z, /)\n",
      "        Return True if both the real and imaginary parts of z are finite, else False.\n",
      "\n",
      "    isinf(z, /)\n",
      "        Checks if the real or imaginary part of z is infinite.\n",
      "\n",
      "    isnan(z, /)\n",
      "        Checks if the real or imaginary part of z not a number (NaN).\n",
      "\n",
      "    log(z, base=<unrepresentable>, /)\n",
      "        log(z[, base]) -> the logarithm of z to the given base.\n",
      "\n",
      "        If the base is not specified, returns the natural logarithm (base e) of z.\n",
      "\n",
      "    log10(z, /)\n",
      "        Return the base-10 logarithm of z.\n",
      "\n",
      "    phase(z, /)\n",
      "        Return argument, also known as the phase angle, of a complex.\n",
      "\n",
      "    polar(z, /)\n",
      "        Convert a complex from rectangular coordinates to polar coordinates.\n",
      "\n",
      "        r is the distance from 0 and phi the phase angle.\n",
      "\n",
      "    rect(r, phi, /)\n",
      "        Convert from polar coordinates to rectangular coordinates.\n",
      "\n",
      "    sin(z, /)\n",
      "        Return the sine of z.\n",
      "\n",
      "    sinh(z, /)\n",
      "        Return the hyperbolic sine of z.\n",
      "\n",
      "    sqrt(z, /)\n",
      "        Return the square root of z.\n",
      "\n",
      "    tan(z, /)\n",
      "        Return the tangent of z.\n",
      "\n",
      "    tanh(z, /)\n",
      "        Return the hyperbolic tangent of z.\n",
      "\n",
      "DATA\n",
      "    e = 2.718281828459045\n",
      "    inf = inf\n",
      "    infj = infj\n",
      "    nan = nan\n",
      "    nanj = nanj\n",
      "    pi = 3.141592653589793\n",
      "    tau = 6.283185307179586\n",
      "\n",
      "FILE\n",
      "    (built-in)\n",
      "\n",
      "\n"
     ]
    }
   ],
   "source": [
    "help(cmath)"
   ]
  },
  {
   "cell_type": "code",
   "execution_count": null,
   "id": "0d6234c1",
   "metadata": {},
   "outputs": [],
   "source": []
  },
  {
   "cell_type": "markdown",
   "id": "61157ded",
   "metadata": {},
   "source": [
    "## Loops"
   ]
  },
  {
   "cell_type": "markdown",
   "id": "c4a60396",
   "metadata": {},
   "source": [
    "#### `while` loop"
   ]
  },
  {
   "cell_type": "markdown",
   "id": "580aced3",
   "metadata": {},
   "source": [
    "initialize increment variable\n",
    "\n",
    "```python\n",
    "while condition:\n",
    "    block_of_instructions\n",
    "    increment\n",
    "```"
   ]
  },
  {
   "cell_type": "code",
   "execution_count": 10,
   "id": "b6317604",
   "metadata": {},
   "outputs": [
    {
     "name": "stdout",
     "output_type": "stream",
     "text": [
      "The value fo i is 1\n",
      "The value fo i is 2\n",
      "The value fo i is 3\n",
      "The value fo i is 4\n",
      "The value fo i is 5\n",
      "The value fo i is 6\n",
      "The value fo i is 7\n",
      "The value fo i is 8\n",
      "The value fo i is 9\n"
     ]
    }
   ],
   "source": [
    "i = 1\n",
    "while (i < 10):\n",
    "    print(\"The value fo i is\", i)\n",
    "    i += 1"
   ]
  },
  {
   "cell_type": "markdown",
   "id": "79d73eed",
   "metadata": {},
   "source": [
    "### `for` loop"
   ]
  },
  {
   "cell_type": "markdown",
   "id": "2cacff71",
   "metadata": {},
   "source": [
    "```python\n",
    "for element in sequence_of_values:\n",
    "    block of instructions\n",
    "```"
   ]
  },
  {
   "cell_type": "code",
   "execution_count": 11,
   "id": "b98ff278",
   "metadata": {},
   "outputs": [
    {
     "name": "stdout",
     "output_type": "stream",
     "text": [
      "0\n",
      "1\n",
      "2\n",
      "3\n",
      "4\n",
      "5\n",
      "6\n",
      "7\n",
      "8\n",
      "9\n"
     ]
    }
   ],
   "source": [
    "for i in range(10):\n",
    "    print(i)"
   ]
  },
  {
   "cell_type": "code",
   "execution_count": 14,
   "id": "7ce0affd",
   "metadata": {},
   "outputs": [
    {
     "name": "stdout",
     "output_type": "stream",
     "text": [
      "Try again\n",
      "We found it\n",
      "Try again\n",
      "Try again\n"
     ]
    }
   ],
   "source": [
    "list_fr = [3, 5, 'hello', 98]\n",
    "\n",
    "for i in list_fr:\n",
    "    if i == 5:\n",
    "        print(\"We found it\")\n",
    "    else:\n",
    "        print('Try again')"
   ]
  },
  {
   "cell_type": "code",
   "execution_count": 15,
   "id": "ec2547bd",
   "metadata": {},
   "outputs": [
    {
     "name": "stdout",
     "output_type": "stream",
     "text": [
      "The letter H is a consonant\n",
      "The letter e is a vowel\n",
      "The letter l is a consonant\n",
      "The letter l is a consonant\n",
      "The letter o is a vowel\n",
      "The letter , is a consonant\n",
      "This is a likely a space\n",
      "The letter w is a consonant\n",
      "The letter o is a vowel\n",
      "The letter r is a consonant\n",
      "The letter l is a consonant\n",
      "The letter d is a consonant\n"
     ]
    }
   ],
   "source": [
    "sentence = \"Hello, world\"\n",
    "\n",
    "for letter in sentence:\n",
    "    if letter in \"AEIOUYaeiouy\":\n",
    "        print(\"The letter\", letter, \"is a vowel\")\n",
    "    elif letter == \" \":\n",
    "        print(\"This is a likely a space\")\n",
    "    else:\n",
    "        print(\"The letter\", letter, \"is a consonant\")"
   ]
  },
  {
   "cell_type": "code",
   "execution_count": null,
   "id": "c6af7f18",
   "metadata": {},
   "outputs": [],
   "source": []
  }
 ],
 "metadata": {
  "kernelspec": {
   "display_name": "base",
   "language": "python",
   "name": "python3"
  },
  "language_info": {
   "codemirror_mode": {
    "name": "ipython",
    "version": 3
   },
   "file_extension": ".py",
   "mimetype": "text/x-python",
   "name": "python",
   "nbconvert_exporter": "python",
   "pygments_lexer": "ipython3",
   "version": "3.13.5"
  }
 },
 "nbformat": 4,
 "nbformat_minor": 5
}
